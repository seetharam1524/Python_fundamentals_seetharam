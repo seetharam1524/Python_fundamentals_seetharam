{
 "cells": [
  {
   "cell_type": "code",
   "execution_count": null,
   "id": "b9a5eda7",
   "metadata": {},
   "outputs": [],
   "source": [
    "#Introduction to list data types:"
   ]
  },
  {
   "cell_type": "code",
   "execution_count": null,
   "id": "3d735148",
   "metadata": {},
   "outputs": [],
   "source": [
    "# A list is a collection of elements/items in a particular order. It is of mutable data type.\n",
    "# it is represented with []"
   ]
  },
  {
   "cell_type": "code",
   "execution_count": 1,
   "id": "929b9768",
   "metadata": {},
   "outputs": [],
   "source": [
    "names=['raju','mantri','sina','batu']"
   ]
  },
  {
   "cell_type": "code",
   "execution_count": 2,
   "id": "f380dd67",
   "metadata": {},
   "outputs": [
    {
     "name": "stdout",
     "output_type": "stream",
     "text": [
      "['raju', 'mantri', 'sina', 'batu']\n"
     ]
    }
   ],
   "source": [
    "print(names)"
   ]
  },
  {
   "cell_type": "code",
   "execution_count": 3,
   "id": "9a41c65e",
   "metadata": {},
   "outputs": [
    {
     "data": {
      "text/plain": [
       "list"
      ]
     },
     "execution_count": 3,
     "metadata": {},
     "output_type": "execute_result"
    }
   ],
   "source": [
    "type(names)"
   ]
  },
  {
   "cell_type": "code",
   "execution_count": 4,
   "id": "f84ca208",
   "metadata": {},
   "outputs": [
    {
     "name": "stdout",
     "output_type": "stream",
     "text": [
      "mantri\n"
     ]
    }
   ],
   "source": [
    "print(names[1])"
   ]
  },
  {
   "cell_type": "code",
   "execution_count": null,
   "id": "7fa1455b",
   "metadata": {},
   "outputs": [],
   "source": [
    "#to access specific element"
   ]
  },
  {
   "cell_type": "code",
   "execution_count": 7,
   "id": "b0c8d1b0",
   "metadata": {},
   "outputs": [
    {
     "name": "stdout",
     "output_type": "stream",
     "text": [
      "batu\n"
     ]
    }
   ],
   "source": [
    "print(names[3])"
   ]
  },
  {
   "cell_type": "code",
   "execution_count": 12,
   "id": "e54722ad",
   "metadata": {},
   "outputs": [
    {
     "name": "stdout",
     "output_type": "stream",
     "text": [
      "batu mantri\n"
     ]
    }
   ],
   "source": [
    "print(names[3],names[1])"
   ]
  },
  {
   "cell_type": "code",
   "execution_count": 14,
   "id": "12a2a2e8",
   "metadata": {},
   "outputs": [
    {
     "name": "stdout",
     "output_type": "stream",
     "text": [
      "Mantri\n"
     ]
    }
   ],
   "source": [
    "print(names[1].title())"
   ]
  },
  {
   "cell_type": "code",
   "execution_count": null,
   "id": "e82d0ef1",
   "metadata": {},
   "outputs": [],
   "source": [
    "#add elemet to the list at end"
   ]
  },
  {
   "cell_type": "code",
   "execution_count": 16,
   "id": "4a416743",
   "metadata": {},
   "outputs": [],
   "source": [
    "names.append('vira')"
   ]
  },
  {
   "cell_type": "code",
   "execution_count": 17,
   "id": "d46efc81",
   "metadata": {},
   "outputs": [
    {
     "name": "stdout",
     "output_type": "stream",
     "text": [
      "['raju', 'mantri', 'sina', 'batu', 'vira']\n"
     ]
    }
   ],
   "source": [
    "print(names)"
   ]
  },
  {
   "cell_type": "code",
   "execution_count": 22,
   "id": "02c163fa",
   "metadata": {},
   "outputs": [],
   "source": [
    "#insert at middle of the list"
   ]
  },
  {
   "cell_type": "code",
   "execution_count": 26,
   "id": "890c379e",
   "metadata": {},
   "outputs": [
    {
     "ename": "SyntaxError",
     "evalue": "cannot assign to function call (<ipython-input-26-f9a0d7e61540>, line 1)",
     "output_type": "error",
     "traceback": [
      "\u001b[1;36m  File \u001b[1;32m\"<ipython-input-26-f9a0d7e61540>\"\u001b[1;36m, line \u001b[1;32m1\u001b[0m\n\u001b[1;33m    names[1].insert()='aswa'\u001b[0m\n\u001b[1;37m    ^\u001b[0m\n\u001b[1;31mSyntaxError\u001b[0m\u001b[1;31m:\u001b[0m cannot assign to function call\n"
     ]
    }
   ],
   "source": [
    "names[1].insert()='aswa'"
   ]
  },
  {
   "cell_type": "code",
   "execution_count": 25,
   "id": "0d150db4",
   "metadata": {},
   "outputs": [
    {
     "name": "stdout",
     "output_type": "stream",
     "text": [
      "['raju', 'kadga', 'sina', 'batu', 'vira']\n"
     ]
    }
   ],
   "source": [
    "print(names)"
   ]
  },
  {
   "cell_type": "code",
   "execution_count": 27,
   "id": "e4b37bf4",
   "metadata": {},
   "outputs": [],
   "source": [
    "names.insert(2,'gaja')"
   ]
  },
  {
   "cell_type": "code",
   "execution_count": 29,
   "id": "f7e32dd5",
   "metadata": {},
   "outputs": [
    {
     "name": "stdout",
     "output_type": "stream",
     "text": [
      "['raju', 'kadga', 'gaja', 'sina', 'batu', 'vira']\n"
     ]
    }
   ],
   "source": [
    "print(names)"
   ]
  },
  {
   "cell_type": "code",
   "execution_count": null,
   "id": "7f0d5df8",
   "metadata": {},
   "outputs": [],
   "source": [
    "#how to modify an element in a list"
   ]
  },
  {
   "cell_type": "code",
   "execution_count": 30,
   "id": "aa3d9a7f",
   "metadata": {},
   "outputs": [],
   "source": [
    "names[1]='bahu'"
   ]
  },
  {
   "cell_type": "code",
   "execution_count": 31,
   "id": "77718486",
   "metadata": {},
   "outputs": [
    {
     "name": "stdout",
     "output_type": "stream",
     "text": [
      "['raju', 'bahu', 'gaja', 'sina', 'batu', 'vira']\n"
     ]
    }
   ],
   "source": [
    "print(names)"
   ]
  },
  {
   "cell_type": "code",
   "execution_count": null,
   "id": "0e59a19c",
   "metadata": {},
   "outputs": [],
   "source": [
    "#how to delete an element"
   ]
  },
  {
   "cell_type": "code",
   "execution_count": 32,
   "id": "465458bb",
   "metadata": {},
   "outputs": [],
   "source": [
    "del names[1]"
   ]
  },
  {
   "cell_type": "code",
   "execution_count": 33,
   "id": "cb3f1b9a",
   "metadata": {},
   "outputs": [
    {
     "name": "stdout",
     "output_type": "stream",
     "text": [
      "['raju', 'gaja', 'sina', 'batu', 'vira']\n"
     ]
    }
   ],
   "source": [
    "print(names)"
   ]
  },
  {
   "cell_type": "code",
   "execution_count": null,
   "id": "291360e6",
   "metadata": {},
   "outputs": [],
   "source": []
  }
 ],
 "metadata": {
  "kernelspec": {
   "display_name": "Python 3",
   "language": "python",
   "name": "python3"
  },
  "language_info": {
   "codemirror_mode": {
    "name": "ipython",
    "version": 3
   },
   "file_extension": ".py",
   "mimetype": "text/x-python",
   "name": "python",
   "nbconvert_exporter": "python",
   "pygments_lexer": "ipython3",
   "version": "3.8.8"
  }
 },
 "nbformat": 4,
 "nbformat_minor": 5
}
