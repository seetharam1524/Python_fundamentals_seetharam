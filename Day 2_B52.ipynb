{
 "cells": [
  {
   "cell_type": "code",
   "execution_count": 1,
   "id": "542ae5bb",
   "metadata": {},
   "outputs": [
    {
     "name": "stdout",
     "output_type": "stream",
     "text": [
      "90\n"
     ]
    }
   ],
   "source": [
    "a = 9\n",
    "b = 10\n",
    "print (a*b)"
   ]
  },
  {
   "cell_type": "code",
   "execution_count": null,
   "id": "3d111821",
   "metadata": {},
   "outputs": [],
   "source": [
    "variable declaration rules"
   ]
  },
  {
   "cell_type": "code",
   "execution_count": null,
   "id": "1bc7c576",
   "metadata": {},
   "outputs": [],
   "source": [
    "rule 1 - there should not be any space"
   ]
  },
  {
   "cell_type": "code",
   "execution_count": 2,
   "id": "9f40a40f",
   "metadata": {},
   "outputs": [
    {
     "ename": "SyntaxError",
     "evalue": "invalid syntax (<ipython-input-2-828324f26825>, line 1)",
     "output_type": "error",
     "traceback": [
      "\u001b[1;36m  File \u001b[1;32m\"<ipython-input-2-828324f26825>\"\u001b[1;36m, line \u001b[1;32m1\u001b[0m\n\u001b[1;33m    my name = 'seetharam'\u001b[0m\n\u001b[1;37m       ^\u001b[0m\n\u001b[1;31mSyntaxError\u001b[0m\u001b[1;31m:\u001b[0m invalid syntax\n"
     ]
    }
   ],
   "source": [
    "my name = 'seetharam'"
   ]
  },
  {
   "cell_type": "code",
   "execution_count": 3,
   "id": "c44e6e2d",
   "metadata": {},
   "outputs": [],
   "source": [
    "myname = 'seetharam'"
   ]
  },
  {
   "cell_type": "code",
   "execution_count": null,
   "id": "6d3d6153",
   "metadata": {},
   "outputs": [],
   "source": [
    "rule 2 - should not start with numbers\n"
   ]
  },
  {
   "cell_type": "code",
   "execution_count": 4,
   "id": "d16ca0af",
   "metadata": {},
   "outputs": [
    {
     "ename": "SyntaxError",
     "evalue": "invalid syntax (<ipython-input-4-d5be331b403f>, line 1)",
     "output_type": "error",
     "traceback": [
      "\u001b[1;36m  File \u001b[1;32m\"<ipython-input-4-d5be331b403f>\"\u001b[1;36m, line \u001b[1;32m1\u001b[0m\n\u001b[1;33m    1myname = 'seetharam'\u001b[0m\n\u001b[1;37m     ^\u001b[0m\n\u001b[1;31mSyntaxError\u001b[0m\u001b[1;31m:\u001b[0m invalid syntax\n"
     ]
    }
   ],
   "source": [
    "1myname = 'seetharam'"
   ]
  },
  {
   "cell_type": "code",
   "execution_count": 5,
   "id": "2874fdf1",
   "metadata": {},
   "outputs": [],
   "source": [
    "myname1 = 'seetaram'"
   ]
  },
  {
   "cell_type": "code",
   "execution_count": null,
   "id": "fa30bbf2",
   "metadata": {},
   "outputs": [],
   "source": [
    "rule 3 - should not use any special charcters"
   ]
  },
  {
   "cell_type": "code",
   "execution_count": 6,
   "id": "1396188a",
   "metadata": {},
   "outputs": [
    {
     "ename": "SyntaxError",
     "evalue": "cannot assign to operator (<ipython-input-6-eaae0c7ca045>, line 1)",
     "output_type": "error",
     "traceback": [
      "\u001b[1;36m  File \u001b[1;32m\"<ipython-input-6-eaae0c7ca045>\"\u001b[1;36m, line \u001b[1;32m1\u001b[0m\n\u001b[1;33m    my@name = 'seetharam'\u001b[0m\n\u001b[1;37m    ^\u001b[0m\n\u001b[1;31mSyntaxError\u001b[0m\u001b[1;31m:\u001b[0m cannot assign to operator\n"
     ]
    }
   ],
   "source": [
    "my@name = 'seetharam'"
   ]
  },
  {
   "cell_type": "code",
   "execution_count": 7,
   "id": "6629a2e0",
   "metadata": {},
   "outputs": [
    {
     "name": "stderr",
     "output_type": "stream",
     "text": [
      "'myname' is not recognized as an internal or external command,\n",
      "operable program or batch file.\n"
     ]
    }
   ],
   "source": [
    "!myname = 'seetharam'"
   ]
  },
  {
   "cell_type": "code",
   "execution_count": 8,
   "id": "07a798db",
   "metadata": {},
   "outputs": [
    {
     "ename": "SyntaxError",
     "evalue": "invalid syntax (<ipython-input-8-28e14b1ffbec>, line 1)",
     "output_type": "error",
     "traceback": [
      "\u001b[1;36m  File \u001b[1;32m\"<ipython-input-8-28e14b1ffbec>\"\u001b[1;36m, line \u001b[1;32m1\u001b[0m\n\u001b[1;33m    $myname = 'seetharam'\u001b[0m\n\u001b[1;37m    ^\u001b[0m\n\u001b[1;31mSyntaxError\u001b[0m\u001b[1;31m:\u001b[0m invalid syntax\n"
     ]
    }
   ],
   "source": [
    "$myname = 'seetharam'"
   ]
  },
  {
   "cell_type": "code",
   "execution_count": 9,
   "id": "88c9421e",
   "metadata": {},
   "outputs": [],
   "source": [
    "my_name = 'seetharam'"
   ]
  },
  {
   "cell_type": "code",
   "execution_count": 10,
   "id": "e87ca947",
   "metadata": {},
   "outputs": [
    {
     "ename": "SyntaxError",
     "evalue": "cannot assign to operator (<ipython-input-10-304fb4998d70>, line 1)",
     "output_type": "error",
     "traceback": [
      "\u001b[1;36m  File \u001b[1;32m\"<ipython-input-10-304fb4998d70>\"\u001b[1;36m, line \u001b[1;32m1\u001b[0m\n\u001b[1;33m    my*name = 'seetharam'\u001b[0m\n\u001b[1;37m    ^\u001b[0m\n\u001b[1;31mSyntaxError\u001b[0m\u001b[1;31m:\u001b[0m cannot assign to operator\n"
     ]
    }
   ],
   "source": [
    "my*name = 'seetharam'"
   ]
  },
  {
   "cell_type": "code",
   "execution_count": 11,
   "id": "2866078c",
   "metadata": {},
   "outputs": [
    {
     "name": "stderr",
     "output_type": "stream",
     "text": [
      "'#$%&*' is not recognized as an internal or external command,\n",
      "operable program or batch file.\n"
     ]
    }
   ],
   "source": [
    "!#$%^&*() = 'seetharam'"
   ]
  },
  {
   "cell_type": "code",
   "execution_count": null,
   "id": "cbe51944",
   "metadata": {},
   "outputs": [],
   "source": [
    "Data types:\n",
    "    String as str\n",
    "    number as int, float \n",
    "    list as list\n",
    "    tuple as tuple\n",
    "    dictionaries as dict"
   ]
  },
  {
   "cell_type": "code",
   "execution_count": 21,
   "id": "65c9d26d",
   "metadata": {},
   "outputs": [
    {
     "name": "stdout",
     "output_type": "stream",
     "text": [
      "3.2\n"
     ]
    }
   ],
   "source": [
    "num = a=1\n",
    "float =b = 2.2\n",
    "float =c=a+b\n",
    "print (c)"
   ]
  },
  {
   "cell_type": "code",
   "execution_count": null,
   "id": "9dd23267",
   "metadata": {},
   "outputs": [],
   "source": [
    "classification of data types:\n",
    "    mutuable - can be editable (flexible)\n",
    "    immutable - fixed"
   ]
  },
  {
   "cell_type": "code",
   "execution_count": null,
   "id": "1c9be0f0",
   "metadata": {},
   "outputs": [],
   "source": [
    "Strings declaration:  A string is a series of characters enclosed with quotes. \n",
    "    it can  be enclosed either with signle ('') , double quotes(\"\") or triple quotes(\"\"\"\"\"\")\n",
    "    "
   ]
  },
  {
   "cell_type": "code",
   "execution_count": 22,
   "id": "a46bcab6",
   "metadata": {},
   "outputs": [],
   "source": [
    "name = 'seetharam k'"
   ]
  },
  {
   "cell_type": "code",
   "execution_count": 23,
   "id": "101f6a76",
   "metadata": {},
   "outputs": [],
   "source": [
    "name1 = \"seetharam1 k\""
   ]
  },
  {
   "cell_type": "code",
   "execution_count": 31,
   "id": "697fb3c6",
   "metadata": {},
   "outputs": [],
   "source": [
    "name2 = \"\"\"seetharam2 k\"\"\""
   ]
  },
  {
   "cell_type": "code",
   "execution_count": 28,
   "id": "582e4f8c",
   "metadata": {},
   "outputs": [
    {
     "name": "stdout",
     "output_type": "stream",
     "text": [
      "seetharam seetharam seetharam\n"
     ]
    }
   ],
   "source": [
    "print(name,name1,name2)"
   ]
  },
  {
   "cell_type": "code",
   "execution_count": 32,
   "id": "48e8c103",
   "metadata": {},
   "outputs": [
    {
     "name": "stdout",
     "output_type": "stream",
     "text": [
      "seetharam seetharam seetharam2 k\n"
     ]
    }
   ],
   "source": [
    "print(name,name1,name2)"
   ]
  },
  {
   "cell_type": "code",
   "execution_count": 34,
   "id": "99bdb58d",
   "metadata": {},
   "outputs": [],
   "source": [
    "str =name = \"seetharam1 k\""
   ]
  },
  {
   "cell_type": "code",
   "execution_count": 37,
   "id": "0bdb6285",
   "metadata": {},
   "outputs": [
    {
     "name": "stdout",
     "output_type": "stream",
     "text": [
      "seetharam1\n"
     ]
    }
   ],
   "source": [
    "print(name) # still not printing the charcters after space"
   ]
  },
  {
   "cell_type": "code",
   "execution_count": null,
   "id": "3d7f5ed0",
   "metadata": {},
   "outputs": [],
   "source": [
    "string methods: a method is a builtin program and readily use. type() is a string method"
   ]
  },
  {
   "cell_type": "code",
   "execution_count": 38,
   "id": "f5ff9796",
   "metadata": {},
   "outputs": [
    {
     "data": {
      "text/plain": [
       "str"
      ]
     },
     "execution_count": 38,
     "metadata": {},
     "output_type": "execute_result"
    }
   ],
   "source": [
    "type(name)"
   ]
  },
  {
   "cell_type": "code",
   "execution_count": 41,
   "id": "5ef9bd9a",
   "metadata": {},
   "outputs": [
    {
     "data": {
      "text/plain": [
       "int"
      ]
     },
     "execution_count": 41,
     "metadata": {},
     "output_type": "execute_result"
    }
   ],
   "source": [
    "type(num)"
   ]
  },
  {
   "cell_type": "code",
   "execution_count": 43,
   "id": "6ade754b",
   "metadata": {},
   "outputs": [
    {
     "data": {
      "text/plain": [
       "float"
      ]
     },
     "execution_count": 43,
     "metadata": {},
     "output_type": "execute_result"
    }
   ],
   "source": [
    "float= b=2.3\n",
    "type(b)"
   ]
  },
  {
   "cell_type": "code",
   "execution_count": null,
   "id": "e51c112d",
   "metadata": {},
   "outputs": [],
   "source": []
  }
 ],
 "metadata": {
  "kernelspec": {
   "display_name": "Python 3",
   "language": "python",
   "name": "python3"
  },
  "language_info": {
   "codemirror_mode": {
    "name": "ipython",
    "version": 3
   },
   "file_extension": ".py",
   "mimetype": "text/x-python",
   "name": "python",
   "nbconvert_exporter": "python",
   "pygments_lexer": "ipython3",
   "version": "3.8.8"
  }
 },
 "nbformat": 4,
 "nbformat_minor": 5
}
