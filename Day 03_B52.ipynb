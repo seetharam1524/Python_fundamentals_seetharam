{
 "cells": [
  {
   "cell_type": "code",
   "execution_count": null,
   "id": "2515e3b1",
   "metadata": {},
   "outputs": [],
   "source": [
    "string methods"
   ]
  },
  {
   "cell_type": "code",
   "execution_count": 1,
   "id": "3eb9e4ce",
   "metadata": {},
   "outputs": [
    {
     "name": "stdout",
     "output_type": "stream",
     "text": [
      "first name\n"
     ]
    }
   ],
   "source": [
    "name='fIrst nAme'\n",
    "print(name)\n"
   ]
  },
  {
   "cell_type": "code",
   "execution_count": 7,
   "id": "9413910a",
   "metadata": {},
   "outputs": [
    {
     "name": "stdout",
     "output_type": "stream",
     "text": [
      "First Name\n"
     ]
    }
   ],
   "source": [
    "#title() method to display the nouns in a formatted way\n",
    "print(name.title())"
   ]
  },
  {
   "cell_type": "code",
   "execution_count": null,
   "id": "9eced0a7",
   "metadata": {},
   "outputs": [],
   "source": [
    "to convert to upper case use upper()"
   ]
  },
  {
   "cell_type": "code",
   "execution_count": 4,
   "id": "0480230e",
   "metadata": {},
   "outputs": [
    {
     "name": "stdout",
     "output_type": "stream",
     "text": [
      "FIRST NAME\n"
     ]
    }
   ],
   "source": [
    "print(name.upper())"
   ]
  },
  {
   "cell_type": "code",
   "execution_count": null,
   "id": "5142ab82",
   "metadata": {},
   "outputs": [],
   "source": [
    "to convert to lower case use lower()"
   ]
  },
  {
   "cell_type": "code",
   "execution_count": 6,
   "id": "50a37b4a",
   "metadata": {},
   "outputs": [
    {
     "name": "stdout",
     "output_type": "stream",
     "text": [
      "first name\n"
     ]
    }
   ],
   "source": [
    "print(name.lower())"
   ]
  },
  {
   "cell_type": "code",
   "execution_count": null,
   "id": "c4a3a394",
   "metadata": {},
   "outputs": [],
   "source": [
    "F strings - F-strings provide a way to embed expressions inside string literals, using a minimal syntax. ...\n",
    "In Python source code, an f-string is a literal string, prefixed with 'f', which contains expressions inside braces"
   ]
  },
  {
   "cell_type": "code",
   "execution_count": null,
   "id": "e548f383",
   "metadata": {},
   "outputs": [],
   "source": [
    "syntax: f\"custom word\" {place holder1} {place holder2}....{place holder n}"
   ]
  },
  {
   "cell_type": "code",
   "execution_count": 11,
   "id": "dd906a81",
   "metadata": {},
   "outputs": [],
   "source": [
    "name=f\"hello dear {'seetharam'}\""
   ]
  },
  {
   "cell_type": "code",
   "execution_count": 12,
   "id": "e2b91438",
   "metadata": {},
   "outputs": [
    {
     "name": "stdout",
     "output_type": "stream",
     "text": [
      "hello dear seetharam\n"
     ]
    }
   ],
   "source": [
    "print(name)"
   ]
  },
  {
   "cell_type": "code",
   "execution_count": 15,
   "id": "0f011ead",
   "metadata": {},
   "outputs": [],
   "source": [
    "fname='seetharam'\n",
    "lname='k'\n",
    "name1=f\"hello dear mr {fname} {lname}\""
   ]
  },
  {
   "cell_type": "code",
   "execution_count": 16,
   "id": "efdb9f36",
   "metadata": {},
   "outputs": [
    {
     "name": "stdout",
     "output_type": "stream",
     "text": [
      "hello dear mr seetharam k\n"
     ]
    }
   ],
   "source": [
    "print(name1)"
   ]
  },
  {
   "cell_type": "code",
   "execution_count": null,
   "id": "7fdb4c1d",
   "metadata": {},
   "outputs": [],
   "source": [
    "adding white spaces to a string"
   ]
  },
  {
   "cell_type": "code",
   "execution_count": 21,
   "id": "3e19028e",
   "metadata": {},
   "outputs": [],
   "source": [
    "name2='lucky number- 123456789'"
   ]
  },
  {
   "cell_type": "code",
   "execution_count": 22,
   "id": "db25d7dd",
   "metadata": {},
   "outputs": [
    {
     "name": "stdout",
     "output_type": "stream",
     "text": [
      "lucky number- 123456789\n"
     ]
    }
   ],
   "source": [
    "print(name2)"
   ]
  },
  {
   "cell_type": "code",
   "execution_count": 23,
   "id": "0b71cd48",
   "metadata": {},
   "outputs": [
    {
     "name": "stdout",
     "output_type": "stream",
     "text": [
      "1\n",
      "2\n",
      "3\n",
      "4\n",
      "5\n",
      "6\n",
      "7\n",
      "8\n",
      "9\n"
     ]
    }
   ],
   "source": [
    "print('1\\n2\\n3\\n4\\n5\\n6\\n7\\n8\\n9')  #print in the next line using \\n"
   ]
  },
  {
   "cell_type": "code",
   "execution_count": 30,
   "id": "5ede41fa",
   "metadata": {},
   "outputs": [
    {
     "name": "stdout",
     "output_type": "stream",
     "text": [
      "1\n",
      "c\u0002\n",
      "c\u0003\n"
     ]
    }
   ],
   "source": [
    "print ('1\\nc\\2\\nc\\3')"
   ]
  },
  {
   "cell_type": "code",
   "execution_count": 32,
   "id": "8fef9308",
   "metadata": {},
   "outputs": [],
   "source": [
    "#tab delimiter - to adjust the white space\n"
   ]
  },
  {
   "cell_type": "code",
   "execution_count": 35,
   "id": "6a10fde5",
   "metadata": {},
   "outputs": [
    {
     "name": "stdout",
     "output_type": "stream",
     "text": [
      "your name starts with: \n",
      "\ta\n",
      "\t\b\n"
     ]
    }
   ],
   "source": [
    "print('your name starts with: \\n\\t\\\n",
    "a\\n\\t\\b')"
   ]
  },
  {
   "cell_type": "code",
   "execution_count": null,
   "id": "1a00e650",
   "metadata": {},
   "outputs": [],
   "source": [
    "removing white spaces there are few methods available. \n",
    "lstrip() - to remove left white spaces\n",
    "rstrip() - to remove right white spaces\n",
    "strip() - remove spaces on both sides- we dont use directly because it verifies on both sides hence it takes fraction of milliseconds\n",
    "leading to performance issues. strictly use wherever it is required explicitly."
   ]
  },
  {
   "cell_type": "code",
   "execution_count": 36,
   "id": "9df84572",
   "metadata": {},
   "outputs": [
    {
     "name": "stdout",
     "output_type": "stream",
     "text": [
      "    ram\n"
     ]
    }
   ],
   "source": [
    "#lstrip()\n",
    "name='    ram'\n",
    "print(name)"
   ]
  },
  {
   "cell_type": "code",
   "execution_count": 37,
   "id": "f9eb79bc",
   "metadata": {},
   "outputs": [
    {
     "name": "stdout",
     "output_type": "stream",
     "text": [
      "ram\n"
     ]
    }
   ],
   "source": [
    "print(name.lstrip())"
   ]
  },
  {
   "cell_type": "code",
   "execution_count": 38,
   "id": "9f8a44bd",
   "metadata": {},
   "outputs": [
    {
     "name": "stdout",
     "output_type": "stream",
     "text": [
      "ram    \n"
     ]
    }
   ],
   "source": [
    "#rstrip\n",
    "name='ram    '\n",
    "print(name)"
   ]
  },
  {
   "cell_type": "code",
   "execution_count": 39,
   "id": "911e94bf",
   "metadata": {},
   "outputs": [
    {
     "name": "stdout",
     "output_type": "stream",
     "text": [
      "ram\n"
     ]
    }
   ],
   "source": [
    "print(name.rstrip())"
   ]
  },
  {
   "cell_type": "code",
   "execution_count": 40,
   "id": "2fc89f6f",
   "metadata": {},
   "outputs": [
    {
     "name": "stdout",
     "output_type": "stream",
     "text": [
      "  ram  \n"
     ]
    }
   ],
   "source": [
    "#strip\n",
    "name='  ram  '\n",
    "print(name)"
   ]
  },
  {
   "cell_type": "code",
   "execution_count": 42,
   "id": "0fa8a03f",
   "metadata": {},
   "outputs": [
    {
     "name": "stdout",
     "output_type": "stream",
     "text": [
      "ram  \n",
      "  ram\n",
      "ram\n"
     ]
    }
   ],
   "source": [
    "print(name.lstrip())\n",
    "print(name.rstrip())\n",
    "print(name.strip())"
   ]
  },
  {
   "cell_type": "code",
   "execution_count": null,
   "id": "3f1ff592",
   "metadata": {},
   "outputs": [],
   "source": []
  }
 ],
 "metadata": {
  "kernelspec": {
   "display_name": "Python 3",
   "language": "python",
   "name": "python3"
  },
  "language_info": {
   "codemirror_mode": {
    "name": "ipython",
    "version": 3
   },
   "file_extension": ".py",
   "mimetype": "text/x-python",
   "name": "python",
   "nbconvert_exporter": "python",
   "pygments_lexer": "ipython3",
   "version": "3.8.8"
  }
 },
 "nbformat": 4,
 "nbformat_minor": 5
}
